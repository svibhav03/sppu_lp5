{
 "cells": [
  {
   "cell_type": "code",
   "execution_count": 1,
   "id": "f06ef371-0dfb-43e3-ba12-fa1ba204f17e",
   "metadata": {},
   "outputs": [],
   "source": [
    "import numpy as np\n",
    "import pandas as pd\n",
    "import matplotlib.pyplot as plt"
   ]
  },
  {
   "cell_type": "code",
   "execution_count": 2,
   "id": "c33c752e-2deb-497f-97d4-a89ecae1afad",
   "metadata": {},
   "outputs": [],
   "source": [
    "df = pd.read_csv(\"https://raw.githubusercontent.com/SameerBramhecha/LP-5/master/DL/goog1.csv\")"
   ]
  },
  {
   "cell_type": "code",
   "execution_count": 3,
   "id": "53f5d307-cd51-45c7-98fa-142870bcfae8",
   "metadata": {},
   "outputs": [
    {
     "data": {
      "text/html": [
       "<div>\n",
       "<style scoped>\n",
       "    .dataframe tbody tr th:only-of-type {\n",
       "        vertical-align: middle;\n",
       "    }\n",
       "\n",
       "    .dataframe tbody tr th {\n",
       "        vertical-align: top;\n",
       "    }\n",
       "\n",
       "    .dataframe thead th {\n",
       "        text-align: right;\n",
       "    }\n",
       "</style>\n",
       "<table border=\"1\" class=\"dataframe\">\n",
       "  <thead>\n",
       "    <tr style=\"text-align: right;\">\n",
       "      <th></th>\n",
       "      <th>Date</th>\n",
       "      <th>Open</th>\n",
       "      <th>High</th>\n",
       "      <th>Low</th>\n",
       "      <th>Close</th>\n",
       "      <th>Volume</th>\n",
       "    </tr>\n",
       "  </thead>\n",
       "  <tbody>\n",
       "    <tr>\n",
       "      <th>0</th>\n",
       "      <td>12/19/2016</td>\n",
       "      <td>790.219971</td>\n",
       "      <td>797.659973</td>\n",
       "      <td>786.270020</td>\n",
       "      <td>794.200012</td>\n",
       "      <td>1225900</td>\n",
       "    </tr>\n",
       "    <tr>\n",
       "      <th>1</th>\n",
       "      <td>12/20/2016</td>\n",
       "      <td>796.760010</td>\n",
       "      <td>798.650024</td>\n",
       "      <td>793.270020</td>\n",
       "      <td>796.419983</td>\n",
       "      <td>925100</td>\n",
       "    </tr>\n",
       "    <tr>\n",
       "      <th>2</th>\n",
       "      <td>12/21/2016</td>\n",
       "      <td>795.840027</td>\n",
       "      <td>796.676025</td>\n",
       "      <td>787.099976</td>\n",
       "      <td>794.559998</td>\n",
       "      <td>1208700</td>\n",
       "    </tr>\n",
       "    <tr>\n",
       "      <th>3</th>\n",
       "      <td>12/22/2016</td>\n",
       "      <td>792.359985</td>\n",
       "      <td>793.320007</td>\n",
       "      <td>788.580017</td>\n",
       "      <td>791.260010</td>\n",
       "      <td>969100</td>\n",
       "    </tr>\n",
       "    <tr>\n",
       "      <th>4</th>\n",
       "      <td>12/23/2016</td>\n",
       "      <td>790.900024</td>\n",
       "      <td>792.739990</td>\n",
       "      <td>787.280029</td>\n",
       "      <td>789.909973</td>\n",
       "      <td>623400</td>\n",
       "    </tr>\n",
       "  </tbody>\n",
       "</table>\n",
       "</div>"
      ],
      "text/plain": [
       "         Date        Open        High         Low       Close   Volume\n",
       "0  12/19/2016  790.219971  797.659973  786.270020  794.200012  1225900\n",
       "1  12/20/2016  796.760010  798.650024  793.270020  796.419983   925100\n",
       "2  12/21/2016  795.840027  796.676025  787.099976  794.559998  1208700\n",
       "3  12/22/2016  792.359985  793.320007  788.580017  791.260010   969100\n",
       "4  12/23/2016  790.900024  792.739990  787.280029  789.909973   623400"
      ]
     },
     "execution_count": 3,
     "metadata": {},
     "output_type": "execute_result"
    }
   ],
   "source": [
    "df.head()"
   ]
  },
  {
   "cell_type": "code",
   "execution_count": 4,
   "id": "c0a1ba79-1017-4d0d-872a-c04ea2586a75",
   "metadata": {},
   "outputs": [],
   "source": [
    "df_req = df['Close']"
   ]
  },
  {
   "cell_type": "code",
   "execution_count": 5,
   "id": "f38c29d2-45db-4cf2-b6c8-64a1f9c110fe",
   "metadata": {},
   "outputs": [
    {
     "data": {
      "text/plain": [
       "[<matplotlib.lines.Line2D at 0x70394e098880>]"
      ]
     },
     "execution_count": 5,
     "metadata": {},
     "output_type": "execute_result"
    },
    {
     "data": {
      "image/png": "[encoded data removed]",
      "text/plain": [
       "<Figure size 640x480 with 1 Axes>"
      ]
     },
     "metadata": {},
     "output_type": "display_data"
    }
   ],
   "source": [
    "plt.plot(df_req)"
   ]
  },
  {
   "cell_type": "code",
   "execution_count": 7,
   "id": "c211e4ef-a55e-4018-960b-5e44deef6bef",
   "metadata": {},
   "outputs": [],
   "source": [
    "from sklearn.preprocessing import MinMaxScaler\n",
    "scaler = MinMaxScaler()\n",
    "df_req = scaler.fit_transform(np.array(df_req).reshape(-1,1))"
   ]
  },
  {
   "cell_type": "code",
   "execution_count": 8,
   "id": "e443936a-6822-49cc-8521-e86d1b3407e6",
   "metadata": {},
   "outputs": [],
   "source": [
    "# Split\n",
    "training_size = int(len(df_req)*0.8)\n",
    "df_train = df_req[:training_size, :]\n",
    "df_test = df_req[training_size:len(df_req), :]"
   ]
  },
  {
   "cell_type": "code",
   "execution_count": 9,
   "id": "37172eb8-a463-4852-83ba-7ca607486352",
   "metadata": {},
   "outputs": [],
   "source": [
    "def create_dataset(data, step=4):\n",
    "    X = []\n",
    "    y = []\n",
    "    for i in range(len(data)-step):\n",
    "        X.append(data[i:i+step, :])\n",
    "        y.append(data[i, :])\n",
    "\n",
    "    return np.array(X), np.array(y)\n",
    "\n",
    "x_train, y_train = create_dataset(df_train)\n",
    "x_test, y_test = create_dataset(df_test)"
   ]
  },
  {
   "cell_type": "code",
   "execution_count": 12,
   "id": "a93042c5-5cc3-4b52-9458-0ff62bb4a568",
   "metadata": {},
   "outputs": [
    {
     "data": {
      "text/plain": [
       "(44, 4, 1)"
      ]
     },
     "execution_count": 12,
     "metadata": {},
     "output_type": "execute_result"
    }
   ],
   "source": [
    "x_train"
   ]
  },
  {
   "cell_type": "code",
   "execution_count": 13,
   "id": "1f7ffb2e-0a9e-4bf6-8626-b6702e0ab9c2",
   "metadata": {},
   "outputs": [],
   "source": [
    "from tensorflow.keras.models import Sequential\n",
    "from tensorflow.keras.layers import Dense, LSTM\n",
    "\n",
    "model = Sequential()\n",
    "model.add(LSTM(128, return_sequences=True, input_shape=(x_train.shape[1], 1)))\n",
    "model.add(LSTM(32))\n",
    "model.add(Dense(1))\n",
    "model.compile(optimizer='adam', loss='mse')"
   ]
  },
  {
   "cell_type": "code",
   "execution_count": 14,
   "id": "7c8e51f3-b41b-4316-a9ea-c09644440413",
   "metadata": {},
   "outputs": [
    {
     "name": "stdout",
     "output_type": "stream",
     "text": [
      "Epoch 1/50\n",
      "2/2 [==============================] - 2s 6ms/step - loss: 0.2032\n",
      "Epoch 2/50\n",
      "2/2 [==============================] - 0s 7ms/step - loss: 0.1604\n",
      "Epoch 3/50\n",
      "2/2 [==============================] - 0s 7ms/step - loss: 0.1214\n",
      "Epoch 4/50\n",
      "2/2 [==============================] - 0s 6ms/step - loss: 0.0855\n",
      "Epoch 5/50\n",
      "2/2 [==============================] - 0s 7ms/step - loss: 0.0503\n",
      "Epoch 6/50\n",
      "2/2 [==============================] - 0s 7ms/step - loss: 0.0247\n",
      "Epoch 7/50\n",
      "2/2 [==============================] - 0s 12ms/step - loss: 0.0086\n",
      "Epoch 8/50\n",
      "2/2 [==============================] - 0s 10ms/step - loss: 0.0116\n",
      "Epoch 9/50\n",
      "2/2 [==============================] - 0s 10ms/step - loss: 0.0240\n",
      "Epoch 10/50\n",
      "2/2 [==============================] - 0s 8ms/step - loss: 0.0276\n",
      "Epoch 11/50\n",
      "2/2 [==============================] - 0s 9ms/step - loss: 0.0201\n",
      "Epoch 12/50\n",
      "2/2 [==============================] - 0s 12ms/step - loss: 0.0124\n",
      "Epoch 13/50\n",
      "2/2 [==============================] - 0s 14ms/step - loss: 0.0082\n",
      "Epoch 14/50\n",
      "2/2 [==============================] - 0s 13ms/step - loss: 0.0082\n",
      "Epoch 15/50\n",
      "2/2 [==============================] - 0s 9ms/step - loss: 0.0101\n",
      "Epoch 16/50\n",
      "2/2 [==============================] - 0s 9ms/step - loss: 0.0117\n",
      "Epoch 17/50\n",
      "2/2 [==============================] - 0s 8ms/step - loss: 0.0118\n",
      "Epoch 18/50\n",
      "2/2 [==============================] - 0s 7ms/step - loss: 0.0108\n",
      "Epoch 19/50\n",
      "2/2 [==============================] - 0s 7ms/step - loss: 0.0091\n",
      "Epoch 20/50\n",
      "2/2 [==============================] - 0s 9ms/step - loss: 0.0077\n",
      "Epoch 21/50\n",
      "2/2 [==============================] - 0s 8ms/step - loss: 0.0070\n",
      "Epoch 22/50\n",
      "2/2 [==============================] - 0s 9ms/step - loss: 0.0070\n",
      "Epoch 23/50\n",
      "2/2 [==============================] - 0s 11ms/step - loss: 0.0073\n",
      "Epoch 24/50\n",
      "2/2 [==============================] - 0s 10ms/step - loss: 0.0074\n",
      "Epoch 25/50\n",
      "2/2 [==============================] - 0s 11ms/step - loss: 0.0071\n",
      "Epoch 26/50\n",
      "2/2 [==============================] - 0s 12ms/step - loss: 0.0065\n",
      "Epoch 27/50\n",
      "2/2 [==============================] - 0s 9ms/step - loss: 0.0061\n",
      "Epoch 28/50\n",
      "2/2 [==============================] - 0s 10ms/step - loss: 0.0059\n",
      "Epoch 29/50\n",
      "2/2 [==============================] - 0s 9ms/step - loss: 0.0059\n",
      "Epoch 30/50\n",
      "2/2 [==============================] - 0s 9ms/step - loss: 0.0058\n",
      "Epoch 31/50\n",
      "2/2 [==============================] - 0s 8ms/step - loss: 0.0056\n",
      "Epoch 32/50\n",
      "2/2 [==============================] - 0s 9ms/step - loss: 0.0053\n",
      "Epoch 33/50\n",
      "2/2 [==============================] - 0s 9ms/step - loss: 0.0051\n",
      "Epoch 34/50\n",
      "2/2 [==============================] - 0s 10ms/step - loss: 0.0049\n",
      "Epoch 35/50\n",
      "2/2 [==============================] - 0s 8ms/step - loss: 0.0049\n",
      "Epoch 36/50\n",
      "2/2 [==============================] - 0s 7ms/step - loss: 0.0047\n",
      "Epoch 37/50\n",
      "2/2 [==============================] - 0s 8ms/step - loss: 0.0046\n",
      "Epoch 38/50\n",
      "2/2 [==============================] - 0s 9ms/step - loss: 0.0044\n",
      "Epoch 39/50\n",
      "2/2 [==============================] - 0s 8ms/step - loss: 0.0043\n",
      "Epoch 40/50\n",
      "2/2 [==============================] - 0s 9ms/step - loss: 0.0042\n",
      "Epoch 41/50\n",
      "2/2 [==============================] - 0s 7ms/step - loss: 0.0041\n",
      "Epoch 42/50\n",
      "2/2 [==============================] - 0s 8ms/step - loss: 0.0040\n",
      "Epoch 43/50\n",
      "2/2 [==============================] - 0s 16ms/step - loss: 0.0039\n",
      "Epoch 44/50\n",
      "2/2 [==============================] - 0s 10ms/step - loss: 0.0039\n",
      "Epoch 45/50\n",
      "2/2 [==============================] - 0s 9ms/step - loss: 0.0038\n",
      "Epoch 46/50\n",
      "2/2 [==============================] - 0s 13ms/step - loss: 0.0038\n",
      "Epoch 47/50\n",
      "2/2 [==============================] - 0s 13ms/step - loss: 0.0037\n",
      "Epoch 48/50\n",
      "2/2 [==============================] - 0s 11ms/step - loss: 0.0036\n",
      "Epoch 49/50\n",
      "2/2 [==============================] - 0s 12ms/step - loss: 0.0036\n",
      "Epoch 50/50\n",
      "2/2 [==============================] - 0s 11ms/step - loss: 0.0036\n"
     ]
    },
    {
     "data": {
      "text/plain": [
       "<keras.callbacks.History at 0x7038d032b100>"
      ]
     },
     "execution_count": 14,
     "metadata": {},
     "output_type": "execute_result"
    }
   ],
   "source": [
    "model.fit(x_train, y_train, epochs=50)"
   ]
  },
  {
   "cell_type": "code",
   "execution_count": 15,
   "id": "0b8d40e5-0831-4097-bd2f-366e89d1e241",
   "metadata": {},
   "outputs": [
    {
     "name": "stdout",
     "output_type": "stream",
     "text": [
      "1/1 [==============================] - 1s 550ms/step - loss: 0.0011\n"
     ]
    },
    {
     "data": {
      "text/plain": [
       "0.0010900076013058424"
      ]
     },
     "execution_count": 15,
     "metadata": {},
     "output_type": "execute_result"
    }
   ],
   "source": [
    "metrics = model.evaluate(x_test, y_test)\n",
    "metrics"
   ]
  },
  {
   "cell_type": "code",
   "execution_count": 17,
   "id": "c6288716-ca1f-4fbf-bf1c-93fced590b39",
   "metadata": {},
   "outputs": [
    {
     "name": "stdout",
     "output_type": "stream",
     "text": [
      "1/1 [==============================] - 0s 21ms/step\n"
     ]
    }
   ],
   "source": [
    "y_pred = scaler.inverse_transform(model.predict(x_test))\n",
    "y_test = scaler.inverse_transform(y_test)"
   ]
  },
  {
   "cell_type": "code",
   "execution_count": 20,
   "id": "e3f46e54-ac6f-48bb-9558-3743966f55ba",
   "metadata": {},
   "outputs": [
    {
     "data": {
      "text/plain": [
       "<matplotlib.legend.Legend at 0x70384f915f00>"
      ]
     },
     "execution_count": 20,
     "metadata": {},
     "output_type": "execute_result"
    },
    {
     "data": {
      "image/png": "[encoded data removed]",
      "text/plain": [
       "<Figure size 640x480 with 1 Axes>"
      ]
     },
     "metadata": {},
     "output_type": "display_data"
    }
   ],
   "source": [
    "plt.plot(y_pred, label=\"Predicted\")\n",
    "plt.plot(y_test, label=\"Actual\")\n",
    "plt.legend()"
   ]
  },
  {
   "cell_type": "code",
   "execution_count": 21,
   "id": "3d3fef97-c12f-497d-8d94-19d0c34e1107",
   "metadata": {},
   "outputs": [],
   "source": [
    "from sklearn.metrics import mean_absolute_error, mean_squared_error"
   ]
  },
  {
   "cell_type": "code",
   "execution_count": null,
   "id": "3c36a5e7-d3fb-47db-993e-8b2ea99baa37",
   "metadata": {},
   "outputs": [],
   "source": [
    "mae = mean_absolute_error(y_test, y_pred)\n",
    "mse = mean_squared_error(y_test, y_pred)\n",
    "rmse = np.sqrt(mse)\n",
    "\n",
    "print(\"MAE: \", mase"
   ]
  }
 ],
 "metadata": {
  "kernelspec": {
   "display_name": "Python 3 (ipykernel)",
   "language": "python",
   "name": "python3"
  },
  "language_info": {
   "codemirror_mode": {
    "name": "ipython",
    "version": 3
   },
   "file_extension": ".py",
   "mimetype": "text/x-python",
   "name": "python",
   "nbconvert_exporter": "python",
   "pygments_lexer": "ipython3",
   "version": "3.10.12"
  }
 },
 "nbformat": 4,
 "nbformat_minor": 5
}
