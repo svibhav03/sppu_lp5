{
  "nbformat": 4,
  "nbformat_minor": 0,
  "metadata": {
    "colab": {
      "provenance": []
    },
    "kernelspec": {
      "name": "python3",
      "display_name": "Python 3"
    },
    "language_info": {
      "name": "python"
    }
  },
  "cells": [
    {
      "cell_type": "code",
      "execution_count": 1,
      "metadata": {
        "id": "-b9ffZSZrHjm"
      },
      "outputs": [],
      "source": [
        "import pandas as pd\n",
        "import numpy as np\n",
        "import matplotlib.pyplot as plt"
      ]
    },
    {
      "cell_type": "code",
      "source": [
        "df = pd.read_csv(\"https://raw.githubusercontent.com/SameerBramhecha/LP-5/master/DL/goog1.csv\")"
      ],
      "metadata": {
        "id": "r1I1MnZTrUiz"
      },
      "execution_count": 2,
      "outputs": []
    },
    {
      "cell_type": "code",
      "source": [
        "df.head()"
      ],
      "metadata": {
        "colab": {
          "base_uri": "https://localhost:8080/",
          "height": 206
        },
        "id": "kRely7XqrcRK",
        "outputId": "3eb95e35-c70b-40bb-fb80-3e15e0a04e93"
      },
      "execution_count": 3,
      "outputs": [
        {
          "output_type": "execute_result",
          "data": {
            "text/plain": [
              "         Date        Open        High         Low       Close   Volume\n",
              "0  12/19/2016  790.219971  797.659973  786.270020  794.200012  1225900\n",
              "1  12/20/2016  796.760010  798.650024  793.270020  796.419983   925100\n",
              "2  12/21/2016  795.840027  796.676025  787.099976  794.559998  1208700\n",
              "3  12/22/2016  792.359985  793.320007  788.580017  791.260010   969100\n",
              "4  12/23/2016  790.900024  792.739990  787.280029  789.909973   623400"
            ],
            "text/html": [
              "\n",
              "  <div id=\"df-c35386e8-7408-4577-b414-998d32ddb19a\" class=\"colab-df-container\">\n",
              "    <div>\n",
              "<style scoped>\n",
              "    .dataframe tbody tr th:only-of-type {\n",
              "        vertical-align: middle;\n",
              "    }\n",
              "\n",
              "    .dataframe tbody tr th {\n",
              "        vertical-align: top;\n",
              "    }\n",
              "\n",
              "    .dataframe thead th {\n",
              "        text-align: right;\n",
              "    }\n",
              "</style>\n",
              "<table border=\"1\" class=\"dataframe\">\n",
              "  <thead>\n",
              "    <tr style=\"text-align: right;\">\n",
              "      <th></th>\n",
              "      <th>Date</th>\n",
              "      <th>Open</th>\n",
              "      <th>High</th>\n",
              "      <th>Low</th>\n",
              "      <th>Close</th>\n",
              "      <th>Volume</th>\n",
              "    </tr>\n",
              "  </thead>\n",
              "  <tbody>\n",
              "    <tr>\n",
              "      <th>0</th>\n",
              "      <td>12/19/2016</td>\n",
              "      <td>790.219971</td>\n",
              "      <td>797.659973</td>\n",
              "      <td>786.270020</td>\n",
              "      <td>794.200012</td>\n",
              "      <td>1225900</td>\n",
              "    </tr>\n",
              "    <tr>\n",
              "      <th>1</th>\n",
              "      <td>12/20/2016</td>\n",
              "      <td>796.760010</td>\n",
              "      <td>798.650024</td>\n",
              "      <td>793.270020</td>\n",
              "      <td>796.419983</td>\n",
              "      <td>925100</td>\n",
              "    </tr>\n",
              "    <tr>\n",
              "      <th>2</th>\n",
              "      <td>12/21/2016</td>\n",
              "      <td>795.840027</td>\n",
              "      <td>796.676025</td>\n",
              "      <td>787.099976</td>\n",
              "      <td>794.559998</td>\n",
              "      <td>1208700</td>\n",
              "    </tr>\n",
              "    <tr>\n",
              "      <th>3</th>\n",
              "      <td>12/22/2016</td>\n",
              "      <td>792.359985</td>\n",
              "      <td>793.320007</td>\n",
              "      <td>788.580017</td>\n",
              "      <td>791.260010</td>\n",
              "      <td>969100</td>\n",
              "    </tr>\n",
              "    <tr>\n",
              "      <th>4</th>\n",
              "      <td>12/23/2016</td>\n",
              "      <td>790.900024</td>\n",
              "      <td>792.739990</td>\n",
              "      <td>787.280029</td>\n",
              "      <td>789.909973</td>\n",
              "      <td>623400</td>\n",
              "    </tr>\n",
              "  </tbody>\n",
              "</table>\n",
              "</div>\n",
              "    <div class=\"colab-df-buttons\">\n",
              "\n",
              "  <div class=\"colab-df-container\">\n",
              "    <button class=\"colab-df-convert\" onclick=\"convertToInteractive('df-c35386e8-7408-4577-b414-998d32ddb19a')\"\n",
              "            title=\"Convert this dataframe to an interactive table.\"\n",
              "            style=\"display:none;\">\n",
              "\n",
              "  <svg xmlns=\"http://www.w3.org/2000/svg\" height=\"24px\" viewBox=\"0 -960 960 960\">\n",
              "    <path d=\"M120-120v-720h720v720H120Zm60-500h600v-160H180v160Zm220 220h160v-160H400v160Zm0 220h160v-160H400v160ZM180-400h160v-160H180v160Zm440 0h160v-160H620v160ZM180-180h160v-160H180v160Zm440 0h160v-160H620v160Z\"/>\n",
              "  </svg>\n",
              "    </button>\n",
              "\n",
              "  <style>\n",
              "    .colab-df-container {\n",
              "      display:flex;\n",
              "      gap: 12px;\n",
              "    }\n",
              "\n",
              "    .colab-df-convert {\n",
              "      background-color: #E8F0FE;\n",
              "      border: none;\n",
              "      border-radius: 50%;\n",
              "      cursor: pointer;\n",
              "      display: none;\n",
              "      fill: #1967D2;\n",
              "      height: 32px;\n",
              "      padding: 0 0 0 0;\n",
              "      width: 32px;\n",
              "    }\n",
              "\n",
              "    .colab-df-convert:hover {\n",
              "      background-color: #E2EBFA;\n",
              "      box-shadow: 0px 1px 2px rgba(60, 64, 67, 0.3), 0px 1px 3px 1px rgba(60, 64, 67, 0.15);\n",
              "      fill: #174EA6;\n",
              "    }\n",
              "\n",
              "    .colab-df-buttons div {\n",
              "      margin-bottom: 4px;\n",
              "    }\n",
              "\n",
              "    [theme=dark] .colab-df-convert {\n",
              "      background-color: #3B4455;\n",
              "      fill: #D2E3FC;\n",
              "    }\n",
              "\n",
              "    [theme=dark] .colab-df-convert:hover {\n",
              "      background-color: #434B5C;\n",
              "      box-shadow: 0px 1px 3px 1px rgba(0, 0, 0, 0.15);\n",
              "      filter: drop-shadow(0px 1px 2px rgba(0, 0, 0, 0.3));\n",
              "      fill: #FFFFFF;\n",
              "    }\n",
              "  </style>\n",
              "\n",
              "    <script>\n",
              "      const buttonEl =\n",
              "        document.querySelector('#df-c35386e8-7408-4577-b414-998d32ddb19a button.colab-df-convert');\n",
              "      buttonEl.style.display =\n",
              "        google.colab.kernel.accessAllowed ? 'block' : 'none';\n",
              "\n",
              "      async function convertToInteractive(key) {\n",
              "        const element = document.querySelector('#df-c35386e8-7408-4577-b414-998d32ddb19a');\n",
              "        const dataTable =\n",
              "          await google.colab.kernel.invokeFunction('convertToInteractive',\n",
              "                                                    [key], {});\n",
              "        if (!dataTable) return;\n",
              "\n",
              "        const docLinkHtml = 'Like what you see? Visit the ' +\n",
              "          '<a target=\"_blank\" href=https://colab.research.google.com/notebooks/data_table.ipynb>data table notebook</a>'\n",
              "          + ' to learn more about interactive tables.';\n",
              "        element.innerHTML = '';\n",
              "        dataTable['output_type'] = 'display_data';\n",
              "        await google.colab.output.renderOutput(dataTable, element);\n",
              "        const docLink = document.createElement('div');\n",
              "        docLink.innerHTML = docLinkHtml;\n",
              "        element.appendChild(docLink);\n",
              "      }\n",
              "    </script>\n",
              "  </div>\n",
              "\n",
              "\n",
              "<div id=\"df-46e9762f-8b3f-4f0b-b2a8-7e3de428151f\">\n",
              "  <button class=\"colab-df-quickchart\" onclick=\"quickchart('df-46e9762f-8b3f-4f0b-b2a8-7e3de428151f')\"\n",
              "            title=\"Suggest charts\"\n",
              "            style=\"display:none;\">\n",
              "\n",
              "<svg xmlns=\"http://www.w3.org/2000/svg\" height=\"24px\"viewBox=\"0 0 24 24\"\n",
              "     width=\"24px\">\n",
              "    <g>\n",
              "        <path d=\"M19 3H5c-1.1 0-2 .9-2 2v14c0 1.1.9 2 2 2h14c1.1 0 2-.9 2-2V5c0-1.1-.9-2-2-2zM9 17H7v-7h2v7zm4 0h-2V7h2v10zm4 0h-2v-4h2v4z\"/>\n",
              "    </g>\n",
              "</svg>\n",
              "  </button>\n",
              "\n",
              "<style>\n",
              "  .colab-df-quickchart {\n",
              "      --bg-color: #E8F0FE;\n",
              "      --fill-color: #1967D2;\n",
              "      --hover-bg-color: #E2EBFA;\n",
              "      --hover-fill-color: #174EA6;\n",
              "      --disabled-fill-color: #AAA;\n",
              "      --disabled-bg-color: #DDD;\n",
              "  }\n",
              "\n",
              "  [theme=dark] .colab-df-quickchart {\n",
              "      --bg-color: #3B4455;\n",
              "      --fill-color: #D2E3FC;\n",
              "      --hover-bg-color: #434B5C;\n",
              "      --hover-fill-color: #FFFFFF;\n",
              "      --disabled-bg-color: #3B4455;\n",
              "      --disabled-fill-color: #666;\n",
              "  }\n",
              "\n",
              "  .colab-df-quickchart {\n",
              "    background-color: var(--bg-color);\n",
              "    border: none;\n",
              "    border-radius: 50%;\n",
              "    cursor: pointer;\n",
              "    display: none;\n",
              "    fill: var(--fill-color);\n",
              "    height: 32px;\n",
              "    padding: 0;\n",
              "    width: 32px;\n",
              "  }\n",
              "\n",
              "  .colab-df-quickchart:hover {\n",
              "    background-color: var(--hover-bg-color);\n",
              "    box-shadow: 0 1px 2px rgba(60, 64, 67, 0.3), 0 1px 3px 1px rgba(60, 64, 67, 0.15);\n",
              "    fill: var(--button-hover-fill-color);\n",
              "  }\n",
              "\n",
              "  .colab-df-quickchart-complete:disabled,\n",
              "  .colab-df-quickchart-complete:disabled:hover {\n",
              "    background-color: var(--disabled-bg-color);\n",
              "    fill: var(--disabled-fill-color);\n",
              "    box-shadow: none;\n",
              "  }\n",
              "\n",
              "  .colab-df-spinner {\n",
              "    border: 2px solid var(--fill-color);\n",
              "    border-color: transparent;\n",
              "    border-bottom-color: var(--fill-color);\n",
              "    animation:\n",
              "      spin 1s steps(1) infinite;\n",
              "  }\n",
              "\n",
              "  @keyframes spin {\n",
              "    0% {\n",
              "      border-color: transparent;\n",
              "      border-bottom-color: var(--fill-color);\n",
              "      border-left-color: var(--fill-color);\n",
              "    }\n",
              "    20% {\n",
              "      border-color: transparent;\n",
              "      border-left-color: var(--fill-color);\n",
              "      border-top-color: var(--fill-color);\n",
              "    }\n",
              "    30% {\n",
              "      border-color: transparent;\n",
              "      border-left-color: var(--fill-color);\n",
              "      border-top-color: var(--fill-color);\n",
              "      border-right-color: var(--fill-color);\n",
              "    }\n",
              "    40% {\n",
              "      border-color: transparent;\n",
              "      border-right-color: var(--fill-color);\n",
              "      border-top-color: var(--fill-color);\n",
              "    }\n",
              "    60% {\n",
              "      border-color: transparent;\n",
              "      border-right-color: var(--fill-color);\n",
              "    }\n",
              "    80% {\n",
              "      border-color: transparent;\n",
              "      border-right-color: var(--fill-color);\n",
              "      border-bottom-color: var(--fill-color);\n",
              "    }\n",
              "    90% {\n",
              "      border-color: transparent;\n",
              "      border-bottom-color: var(--fill-color);\n",
              "    }\n",
              "  }\n",
              "</style>\n",
              "\n",
              "  <script>\n",
              "    async function quickchart(key) {\n",
              "      const quickchartButtonEl =\n",
              "        document.querySelector('#' + key + ' button');\n",
              "      quickchartButtonEl.disabled = true;  // To prevent multiple clicks.\n",
              "      quickchartButtonEl.classList.add('colab-df-spinner');\n",
              "      try {\n",
              "        const charts = await google.colab.kernel.invokeFunction(\n",
              "            'suggestCharts', [key], {});\n",
              "      } catch (error) {\n",
              "        console.error('Error during call to suggestCharts:', error);\n",
              "      }\n",
              "      quickchartButtonEl.classList.remove('colab-df-spinner');\n",
              "      quickchartButtonEl.classList.add('colab-df-quickchart-complete');\n",
              "    }\n",
              "    (() => {\n",
              "      let quickchartButtonEl =\n",
              "        document.querySelector('#df-46e9762f-8b3f-4f0b-b2a8-7e3de428151f button');\n",
              "      quickchartButtonEl.style.display =\n",
              "        google.colab.kernel.accessAllowed ? 'block' : 'none';\n",
              "    })();\n",
              "  </script>\n",
              "</div>\n",
              "\n",
              "    </div>\n",
              "  </div>\n"
            ],
            "application/vnd.google.colaboratory.intrinsic+json": {
              "type": "dataframe",
              "variable_name": "df",
              "summary": "{\n  \"name\": \"df\",\n  \"rows\": 61,\n  \"fields\": [\n    {\n      \"column\": \"Date\",\n      \"properties\": {\n        \"dtype\": \"object\",\n        \"num_unique_values\": 61,\n        \"samples\": [\n          \"12/19/2016\",\n          \"12/27/2016\",\n          \"2/27/2017\"\n        ],\n        \"semantic_type\": \"\",\n        \"description\": \"\"\n      }\n    },\n    {\n      \"column\": \"Open\",\n      \"properties\": {\n        \"dtype\": \"number\",\n        \"std\": 18.78430307507857,\n        \"min\": 778.809998,\n        \"max\": 851.609985,\n        \"num_unique_values\": 60,\n        \"samples\": [\n          790.219971,\n          790.679993,\n          811.700012\n        ],\n        \"semantic_type\": \"\",\n        \"description\": \"\"\n      }\n    },\n    {\n      \"column\": \"High\",\n      \"properties\": {\n        \"dtype\": \"number\",\n        \"std\": 18.556003888544566,\n        \"min\": 782.780029,\n        \"max\": 853.400024,\n        \"num_unique_values\": 60,\n        \"samples\": [\n          797.659973,\n          797.859985,\n          815.25\n        ],\n        \"semantic_type\": \"\",\n        \"description\": \"\"\n      }\n    },\n    {\n      \"column\": \"Low\",\n      \"properties\": {\n        \"dtype\": \"number\",\n        \"std\": 19.384799455425764,\n        \"min\": 770.409973,\n        \"max\": 847.109985,\n        \"num_unique_values\": 60,\n        \"samples\": [\n          786.27002,\n          787.656982,\n          815.48999\n        ],\n        \"semantic_type\": \"\",\n        \"description\": \"\"\n      }\n    },\n    {\n      \"column\": \"Close\",\n      \"properties\": {\n        \"dtype\": \"number\",\n        \"std\": 19.265955399913217,\n        \"min\": 771.820007,\n        \"max\": 852.119995,\n        \"num_unique_values\": 61,\n        \"samples\": [\n          794.200012,\n          791.549988,\n          829.280029\n        ],\n        \"semantic_type\": \"\",\n        \"description\": \"\"\n      }\n    },\n    {\n      \"column\": \"Volume\",\n      \"properties\": {\n        \"dtype\": \"number\",\n        \"std\": 498737,\n        \"min\": 623400,\n        \"max\": 3228900,\n        \"num_unique_values\": 61,\n        \"samples\": [\n          1225900,\n          789100,\n          1099500\n        ],\n        \"semantic_type\": \"\",\n        \"description\": \"\"\n      }\n    }\n  ]\n}"
            }
          },
          "metadata": {},
          "execution_count": 3
        }
      ]
    },
    {
      "cell_type": "code",
      "source": [
        "plt.plot(df['Close'])"
      ],
      "metadata": {
        "colab": {
          "base_uri": "https://localhost:8080/",
          "height": 448
        },
        "id": "13JSL4kbrrmQ",
        "outputId": "ba906071-6824-4d57-8643-8c3f4d13ce37"
      },
      "execution_count": 4,
      "outputs": [
        {
          "output_type": "execute_result",
          "data": {
            "text/plain": [
              "[<matplotlib.lines.Line2D at 0x7a9d3f1070a0>]"
            ]
          },
          "metadata": {},
          "execution_count": 4
        },
        {
          "output_type": "display_data",
          "data": {
            "text/plain": [
              "<Figure size 640x480 with 1 Axes>"
            ],
            "image/png": "[encoded data removed]"
          },
          "metadata": {}
        }
      ]
    },
    {
      "cell_type": "code",
      "source": [
        "from sklearn.preprocessing import MinMaxScaler\n",
        "scaler = MinMaxScaler()\n",
        "df_normalized = scaler.fit_transform(np.array(df['Close']).reshape(-1,1))"
      ],
      "metadata": {
        "id": "Xp51wqRcr8_d"
      },
      "execution_count": 5,
      "outputs": []
    },
    {
      "cell_type": "code",
      "source": [
        "training_size = int(len(df_normalized)*0.8)\n",
        "train_data, test_data = df_normalized[:training_size, :], df_normalized[training_size:, :]"
      ],
      "metadata": {
        "id": "SIYiy8cPtbSq"
      },
      "execution_count": 6,
      "outputs": []
    },
    {
      "cell_type": "code",
      "source": [
        "len(train_data), len(test_data)"
      ],
      "metadata": {
        "colab": {
          "base_uri": "https://localhost:8080/"
        },
        "id": "t-Hi1XiHuwbV",
        "outputId": "3945a722-0087-4cbd-be16-002760734517"
      },
      "execution_count": 7,
      "outputs": [
        {
          "output_type": "execute_result",
          "data": {
            "text/plain": [
              "(48, 13)"
            ]
          },
          "metadata": {},
          "execution_count": 7
        }
      ]
    },
    {
      "cell_type": "code",
      "source": [
        "def create_dataset(data, step=4):\n",
        "  x = []\n",
        "  y = []\n",
        "  for i in range(len(data) - step):\n",
        "    x.append(data[i:i+step, 0])\n",
        "    y.append(data[i+step, 0])\n",
        "\n",
        "  return np.array(x), np.array(y)\n",
        "\n",
        "# basically if dataset is [123 124 125 124 123 125 127]\n",
        "# Independent 4 days  -> next day dependent\n",
        "# s1  s1  s2  s3  y\n",
        "# 123 124 125 124 123\n",
        "# 124 125 124 123 125\n",
        "# 125 124 123 125 127\n",
        "\n",
        "x_train, y_train = create_dataset(train_data)\n",
        "x_test, y_test = create_dataset(test_data)\n",
        "\n"
      ],
      "metadata": {
        "id": "FLNnQU1bu4Y9"
      },
      "execution_count": 8,
      "outputs": []
    },
    {
      "cell_type": "code",
      "source": [
        "from tensorflow.keras.models import Sequential\n",
        "from tensorflow.keras.layers import Dense, LSTM\n",
        "\n",
        "model = Sequential()\n",
        "model.add(LSTM(50, return_sequences=True, input_shape=(x_train.shape[1], 1)))\n",
        "model.add(LSTM(50))\n",
        "model.add(Dense(units=1))\n",
        "model.compile(optimizer='adam', loss='mse')\n",
        "model.fit(x_train, y_train, epochs=50)"
      ],
      "metadata": {
        "colab": {
          "base_uri": "https://localhost:8080/"
        },
        "id": "Xw1HVTQDxBHI",
        "outputId": "b4999fe0-f2d4-4424-b5b8-b1e3d9f26790"
      },
      "execution_count": 9,
      "outputs": [
        {
          "output_type": "stream",
          "name": "stdout",
          "text": [
            "Epoch 1/50\n",
            "2/2 [==============================] - 9s 36ms/step - loss: 0.2522\n",
            "Epoch 2/50\n",
            "2/2 [==============================] - 0s 22ms/step - loss: 0.2190\n",
            "Epoch 3/50\n",
            "2/2 [==============================] - 0s 17ms/step - loss: 0.1877\n",
            "Epoch 4/50\n",
            "2/2 [==============================] - 0s 17ms/step - loss: 0.1555\n",
            "Epoch 5/50\n",
            "2/2 [==============================] - 0s 13ms/step - loss: 0.1262\n",
            "Epoch 6/50\n",
            "2/2 [==============================] - 0s 32ms/step - loss: 0.0980\n",
            "Epoch 7/50\n",
            "2/2 [==============================] - 0s 29ms/step - loss: 0.0715\n",
            "Epoch 8/50\n",
            "2/2 [==============================] - 0s 37ms/step - loss: 0.0479\n",
            "Epoch 9/50\n",
            "2/2 [==============================] - 0s 18ms/step - loss: 0.0303\n",
            "Epoch 10/50\n",
            "2/2 [==============================] - 0s 21ms/step - loss: 0.0204\n",
            "Epoch 11/50\n",
            "2/2 [==============================] - 0s 18ms/step - loss: 0.0221\n",
            "Epoch 12/50\n",
            "2/2 [==============================] - 0s 21ms/step - loss: 0.0306\n",
            "Epoch 13/50\n",
            "2/2 [==============================] - 0s 19ms/step - loss: 0.0352\n",
            "Epoch 14/50\n",
            "2/2 [==============================] - 0s 24ms/step - loss: 0.0331\n",
            "Epoch 15/50\n",
            "2/2 [==============================] - 0s 19ms/step - loss: 0.0275\n",
            "Epoch 16/50\n",
            "2/2 [==============================] - 0s 20ms/step - loss: 0.0231\n",
            "Epoch 17/50\n",
            "2/2 [==============================] - 0s 20ms/step - loss: 0.0202\n",
            "Epoch 18/50\n",
            "2/2 [==============================] - 0s 21ms/step - loss: 0.0201\n",
            "Epoch 19/50\n",
            "2/2 [==============================] - 0s 20ms/step - loss: 0.0206\n",
            "Epoch 20/50\n",
            "2/2 [==============================] - 0s 20ms/step - loss: 0.0213\n",
            "Epoch 21/50\n",
            "2/2 [==============================] - 0s 26ms/step - loss: 0.0219\n",
            "Epoch 22/50\n",
            "2/2 [==============================] - 0s 17ms/step - loss: 0.0218\n",
            "Epoch 23/50\n",
            "2/2 [==============================] - 0s 16ms/step - loss: 0.0211\n",
            "Epoch 24/50\n",
            "2/2 [==============================] - 0s 17ms/step - loss: 0.0204\n",
            "Epoch 25/50\n",
            "2/2 [==============================] - 0s 16ms/step - loss: 0.0199\n",
            "Epoch 26/50\n",
            "2/2 [==============================] - 0s 16ms/step - loss: 0.0196\n",
            "Epoch 27/50\n",
            "2/2 [==============================] - 0s 21ms/step - loss: 0.0195\n",
            "Epoch 28/50\n",
            "2/2 [==============================] - 0s 16ms/step - loss: 0.0196\n",
            "Epoch 29/50\n",
            "2/2 [==============================] - 0s 28ms/step - loss: 0.0198\n",
            "Epoch 30/50\n",
            "2/2 [==============================] - 0s 19ms/step - loss: 0.0199\n",
            "Epoch 31/50\n",
            "2/2 [==============================] - 0s 18ms/step - loss: 0.0199\n",
            "Epoch 32/50\n",
            "2/2 [==============================] - 0s 15ms/step - loss: 0.0195\n",
            "Epoch 33/50\n",
            "2/2 [==============================] - 0s 15ms/step - loss: 0.0194\n",
            "Epoch 34/50\n",
            "2/2 [==============================] - 0s 20ms/step - loss: 0.0193\n",
            "Epoch 35/50\n",
            "2/2 [==============================] - 0s 19ms/step - loss: 0.0192\n",
            "Epoch 36/50\n",
            "2/2 [==============================] - 0s 16ms/step - loss: 0.0192\n",
            "Epoch 37/50\n",
            "2/2 [==============================] - 0s 17ms/step - loss: 0.0192\n",
            "Epoch 38/50\n",
            "2/2 [==============================] - 0s 20ms/step - loss: 0.0191\n",
            "Epoch 39/50\n",
            "2/2 [==============================] - 0s 14ms/step - loss: 0.0191\n",
            "Epoch 40/50\n",
            "2/2 [==============================] - 0s 21ms/step - loss: 0.0191\n",
            "Epoch 41/50\n",
            "2/2 [==============================] - 0s 18ms/step - loss: 0.0190\n",
            "Epoch 42/50\n",
            "2/2 [==============================] - 0s 16ms/step - loss: 0.0190\n",
            "Epoch 43/50\n",
            "2/2 [==============================] - 0s 20ms/step - loss: 0.0191\n",
            "Epoch 44/50\n",
            "2/2 [==============================] - 0s 23ms/step - loss: 0.0189\n",
            "Epoch 45/50\n",
            "2/2 [==============================] - 0s 16ms/step - loss: 0.0189\n",
            "Epoch 46/50\n",
            "2/2 [==============================] - 0s 16ms/step - loss: 0.0189\n",
            "Epoch 47/50\n",
            "2/2 [==============================] - 0s 15ms/step - loss: 0.0189\n",
            "Epoch 48/50\n",
            "2/2 [==============================] - 0s 14ms/step - loss: 0.0189\n",
            "Epoch 49/50\n",
            "2/2 [==============================] - 0s 15ms/step - loss: 0.0188\n",
            "Epoch 50/50\n",
            "2/2 [==============================] - 0s 17ms/step - loss: 0.0187\n"
          ]
        },
        {
          "output_type": "execute_result",
          "data": {
            "text/plain": [
              "<keras.src.callbacks.History at 0x7a9cdc170bb0>"
            ]
          },
          "metadata": {},
          "execution_count": 9
        }
      ]
    },
    {
      "cell_type": "code",
      "source": [
        "metrics = model.evaluate(x_test, y_test)\n",
        "metrics"
      ],
      "metadata": {
        "colab": {
          "base_uri": "https://localhost:8080/"
        },
        "id": "wQ1eFqW9y-Wn",
        "outputId": "4d1eab25-6611-4136-b5b3-2d9dcab105e2"
      },
      "execution_count": 10,
      "outputs": [
        {
          "output_type": "stream",
          "name": "stdout",
          "text": [
            "1/1 [==============================] - 2s 2s/step - loss: 0.0226\n"
          ]
        },
        {
          "output_type": "execute_result",
          "data": {
            "text/plain": [
              "0.022577762603759766"
            ]
          },
          "metadata": {},
          "execution_count": 10
        }
      ]
    },
    {
      "cell_type": "code",
      "source": [
        "y_pred=scaler.inverse_transform(model.predict(x_test))\n",
        "y_test=scaler.inverse_transform(np.array(y_test).reshape(-1,1))"
      ],
      "metadata": {
        "colab": {
          "base_uri": "https://localhost:8080/"
        },
        "id": "00RzDXxBzGFR",
        "outputId": "160b7ccc-9f66-46b7-8031-76830c5085a7"
      },
      "execution_count": 11,
      "outputs": [
        {
          "output_type": "stream",
          "name": "stdout",
          "text": [
            "1/1 [==============================] - 2s 2s/step\n"
          ]
        }
      ]
    },
    {
      "cell_type": "code",
      "source": [
        "from sklearn.metrics import mean_absolute_error, mean_squared_error\n",
        "mae = mean_absolute_error(y_test, y_pred)\n",
        "mse = mean_squared_error(y_test, y_pred)\n",
        "rmse = np.sqrt(mse)\n",
        "print('MAE: ', mae)\n",
        "print('MSE: ', mse)\n",
        "print('RMSE: ', rmse)"
      ],
      "metadata": {
        "colab": {
          "base_uri": "https://localhost:8080/"
        },
        "id": "uvYF40oSzgfN",
        "outputId": "84f57dcd-f0e6-4700-869f-69028e517210"
      },
      "execution_count": 12,
      "outputs": [
        {
          "output_type": "stream",
          "name": "stdout",
          "text": [
            "MAE:  11.68502460720486\n",
            "MSE:  145.58337631895085\n",
            "RMSE:  12.065793646459849\n"
          ]
        }
      ]
    },
    {
      "cell_type": "code",
      "source": [
        "plt.plot(y_test, label='Actual Price')\n",
        "\n",
        "# Plotting the predicted prices\n",
        "plt.plot(y_pred, label='Predicted Price')\n",
        "\n",
        "plt.title('Actual vs Predicted Price')\n",
        "plt.xlabel('Time')\n",
        "plt.ylabel('Price')\n",
        "plt.legend()\n",
        "plt.grid(True)\n",
        "plt.show()"
      ],
      "metadata": {
        "colab": {
          "base_uri": "https://localhost:8080/",
          "height": 472
        },
        "id": "SQc2wm2o3lqA",
        "outputId": "df877072-71b2-449f-fe0c-122fe42b2bd1"
      },
      "execution_count": 26,
      "outputs": [
        {
          "output_type": "display_data",
          "data": {
            "text/plain": [
              "<Figure size 640x480 with 1 Axes>"
            ],
            "image/png": "[encoded data removed]"
          },
          "metadata": {}
        }
      ]
    }
  ]
}